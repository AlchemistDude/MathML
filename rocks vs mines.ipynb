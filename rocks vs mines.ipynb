{
 "cells": [
  {
   "cell_type": "code",
   "execution_count": 67,
   "id": "266708e4-0df6-4f25-a2d4-23695d3ec3d5",
   "metadata": {},
   "outputs": [
    {
     "name": "stderr",
     "output_type": "stream",
     "text": [
      "┌ Info: Installing Julia nodeps kernelspec in /home/alchemistdude/.local/share/jupyter/kernels/julia-nodeps-1.7\n",
      "└ @ IJulia /home/alchemistdude/.julia/packages/IJulia/AQu2H/deps/kspec.jl:94\n",
      "WARNING: redefinition of constant LogisticRegression. This may fail, cause incorrect answers, or produce other errors.\n",
      "WARNING: redefinition of constant KNeighborsClassifier. This may fail, cause incorrect answers, or produce other errors.\n",
      "WARNING: redefinition of constant DecisionTreeClassifier. This may fail, cause incorrect answers, or produce other errors.\n",
      "┌ Warning: Module model_selection has been ported to Julia - try `import ScikitLearn: CrossValidation` instead\n",
      "└ @ ScikitLearn.Skcore /home/alchemistdude/.julia/packages/ScikitLearn/Kn82b/src/Skcore.jl:169\n",
      "WARNING: redefinition of constant train_test_split. This may fail, cause incorrect answers, or produce other errors.\n",
      "WARNING: redefinition of constant PCA. This may fail, cause incorrect answers, or produce other errors.\n",
      "WARNING: redefinition of constant confusion_matrix. This may fail, cause incorrect answers, or produce other errors.\n",
      "WARNING: redefinition of constant MinMaxScaler. This may fail, cause incorrect answers, or produce other errors.\n",
      "WARNING: redefinition of constant f1_score. This may fail, cause incorrect answers, or produce other errors.\n"
     ]
    }
   ],
   "source": [
    "using DataFrames,CSV\n",
    "using Plots\n",
    "using InformationMeasures\n",
    "using StatsBase\n",
    "using Statistics\n",
    "using ScikitLearn\n",
    "using IJulia\n",
    "IJulia.installkernel(\"Julia nodeps\", \"--depwarn=no\")\n",
    "\n",
    "#models\n",
    "@sk_import linear_model: LogisticRegression;\n",
    "@sk_import neighbors:KNeighborsClassifier;\n",
    "@sk_import tree:DecisionTreeClassifier;\n",
    "@sk_import svm: SVC;\n",
    "\n",
    "# utilities\n",
    "@sk_import model_selection:train_test_split;\n",
    "@sk_import decomposition:PCA;\n",
    "@sk_import metrics:confusion_matrix;\n",
    "@sk_import preprocessing:MinMaxScaler;\n",
    "@sk_import metrics:f1_score;\n"
   ]
  },
  {
   "cell_type": "code",
   "execution_count": 2,
   "id": "fe54ffe7-5afe-431c-b37f-d7b415f56c06",
   "metadata": {},
   "outputs": [],
   "source": [
    "df = CSV.read(\"data/sonar.csv\",DataFrame,header=0); #Creating dataframe object from csv file\n",
    "df.Column61 .= replace.(df.Column61, \"M\" => 1)\n",
    "df.Column61 .= replace.(df.Column61, \"R\" => 0);\n",
    "df.Column61 = parse.(Int, df.Column61);"
   ]
  },
  {
   "cell_type": "code",
   "execution_count": 3,
   "id": "fe90294d-0134-4244-81e9-d5fc59477223",
   "metadata": {},
   "outputs": [
    {
     "data": {
      "text/plain": [
       "(208, 61)"
      ]
     },
     "execution_count": 3,
     "metadata": {},
     "output_type": "execute_result"
    }
   ],
   "source": [
    "size(df)"
   ]
  },
  {
   "cell_type": "markdown",
   "id": "071ba68b-68c3-47e7-8fc8-7c21eb1b4c56",
   "metadata": {},
   "source": [
    "We have 208 rows and 61 columns, the 61 column is the target feature."
   ]
  },
  {
   "cell_type": "code",
   "execution_count": 4,
   "id": "6d2c3d95-2c90-4470-8fbc-a312e84b50cd",
   "metadata": {},
   "outputs": [
    {
     "data": {
      "text/plain": [
       "2-element Vector{DataType}:\n",
       " Float64\n",
       " Int64"
      ]
     },
     "execution_count": 4,
     "metadata": {},
     "output_type": "execute_result"
    }
   ],
   "source": [
    "unique!(eltype.(eachcol(df)))"
   ]
  },
  {
   "cell_type": "markdown",
   "id": "f3db2b8f-9f22-4876-ba67-d53e6629fad2",
   "metadata": {},
   "source": [
    "It looks like all our data is of float64 type."
   ]
  },
  {
   "cell_type": "code",
   "execution_count": 6,
   "id": "6fd851d0-80b3-41d0-8d71-0f62826fa88c",
   "metadata": {},
   "outputs": [
    {
     "data": {
      "text/html": [
       "<table class=\"data-frame\"><thead><tr><th></th><th>Column1</th><th>Column2</th><th>Column3</th><th>Column4</th><th>Column5</th><th>Column6</th><th>Column7</th><th>Column8</th><th>Column9</th></tr><tr><th></th><th>Float64</th><th>Float64</th><th>Float64</th><th>Float64</th><th>Float64</th><th>Float64</th><th>Float64</th><th>Float64</th><th>Float64</th></tr></thead><tbody><p>5 rows × 61 columns (omitted printing of 52 columns)</p><tr><th>1</th><td>0.02</td><td>0.0371</td><td>0.0428</td><td>0.0207</td><td>0.0954</td><td>0.0986</td><td>0.1539</td><td>0.1601</td><td>0.3109</td></tr><tr><th>2</th><td>0.0453</td><td>0.0523</td><td>0.0843</td><td>0.0689</td><td>0.1183</td><td>0.2583</td><td>0.2156</td><td>0.3481</td><td>0.3337</td></tr><tr><th>3</th><td>0.0262</td><td>0.0582</td><td>0.1099</td><td>0.1083</td><td>0.0974</td><td>0.228</td><td>0.2431</td><td>0.3771</td><td>0.5598</td></tr><tr><th>4</th><td>0.01</td><td>0.0171</td><td>0.0623</td><td>0.0205</td><td>0.0205</td><td>0.0368</td><td>0.1098</td><td>0.1276</td><td>0.0598</td></tr><tr><th>5</th><td>0.0762</td><td>0.0666</td><td>0.0481</td><td>0.0394</td><td>0.059</td><td>0.0649</td><td>0.1209</td><td>0.2467</td><td>0.3564</td></tr></tbody></table>"
      ],
      "text/latex": [
       "\\begin{tabular}{r|cccccccccc}\n",
       "\t& Column1 & Column2 & Column3 & Column4 & Column5 & Column6 & Column7 & Column8 & Column9 & \\\\\n",
       "\t\\hline\n",
       "\t& Float64 & Float64 & Float64 & Float64 & Float64 & Float64 & Float64 & Float64 & Float64 & \\\\\n",
       "\t\\hline\n",
       "\t1 & 0.02 & 0.0371 & 0.0428 & 0.0207 & 0.0954 & 0.0986 & 0.1539 & 0.1601 & 0.3109 & $\\dots$ \\\\\n",
       "\t2 & 0.0453 & 0.0523 & 0.0843 & 0.0689 & 0.1183 & 0.2583 & 0.2156 & 0.3481 & 0.3337 & $\\dots$ \\\\\n",
       "\t3 & 0.0262 & 0.0582 & 0.1099 & 0.1083 & 0.0974 & 0.228 & 0.2431 & 0.3771 & 0.5598 & $\\dots$ \\\\\n",
       "\t4 & 0.01 & 0.0171 & 0.0623 & 0.0205 & 0.0205 & 0.0368 & 0.1098 & 0.1276 & 0.0598 & $\\dots$ \\\\\n",
       "\t5 & 0.0762 & 0.0666 & 0.0481 & 0.0394 & 0.059 & 0.0649 & 0.1209 & 0.2467 & 0.3564 & $\\dots$ \\\\\n",
       "\\end{tabular}\n"
      ],
      "text/plain": [
       "5×61 typename(DataFrame). Omitted printing of 54 columns\n",
       "│ Row │ Column1 │ Column2 │ Column3 │ Column4 │ Column5 │ Column6 │ Column7 │\n",
       "│     │ \u001b[90mFloat64\u001b[39m │ \u001b[90mFloat64\u001b[39m │ \u001b[90mFloat64\u001b[39m │ \u001b[90mFloat64\u001b[39m │ \u001b[90mFloat64\u001b[39m │ \u001b[90mFloat64\u001b[39m │ \u001b[90mFloat64\u001b[39m │\n",
       "├─────┼─────────┼─────────┼─────────┼─────────┼─────────┼─────────┼─────────┤\n",
       "│ 1   │ 0.02    │ 0.0371  │ 0.0428  │ 0.0207  │ 0.0954  │ 0.0986  │ 0.1539  │\n",
       "│ 2   │ 0.0453  │ 0.0523  │ 0.0843  │ 0.0689  │ 0.1183  │ 0.2583  │ 0.2156  │\n",
       "│ 3   │ 0.0262  │ 0.0582  │ 0.1099  │ 0.1083  │ 0.0974  │ 0.228   │ 0.2431  │\n",
       "│ 4   │ 0.01    │ 0.0171  │ 0.0623  │ 0.0205  │ 0.0205  │ 0.0368  │ 0.1098  │\n",
       "│ 5   │ 0.0762  │ 0.0666  │ 0.0481  │ 0.0394  │ 0.059   │ 0.0649  │ 0.1209  │"
      ]
     },
     "execution_count": 6,
     "metadata": {},
     "output_type": "execute_result"
    }
   ],
   "source": [
    "df[1:5,:] #head of the dataframe"
   ]
  },
  {
   "cell_type": "markdown",
   "id": "96617d2c-b69d-4b4a-9854-d5644a7a2c2c",
   "metadata": {},
   "source": [
    "Summary of the dataframe"
   ]
  },
  {
   "cell_type": "code",
   "execution_count": 7,
   "id": "e0353e80-6179-4478-bf6e-1cb50e3cfe24",
   "metadata": {},
   "outputs": [
    {
     "data": {
      "text/html": [
       "<table class=\"data-frame\"><thead><tr><th></th><th>variable</th><th>mean</th><th>min</th><th>median</th><th>max</th><th>nunique</th><th>nmissing</th><th>eltype</th></tr><tr><th></th><th>Symbol</th><th>Float64</th><th>Real</th><th>Float64</th><th>Real</th><th>Nothing</th><th>Nothing</th><th>DataType</th></tr></thead><tbody><p>61 rows × 8 columns</p><tr><th>1</th><td>Column1</td><td>0.0291639</td><td>0.0015</td><td>0.0228</td><td>0.1371</td><td></td><td></td><td>Float64</td></tr><tr><th>2</th><td>Column2</td><td>0.0384365</td><td>0.0006</td><td>0.0308</td><td>0.2339</td><td></td><td></td><td>Float64</td></tr><tr><th>3</th><td>Column3</td><td>0.0438322</td><td>0.0015</td><td>0.0343</td><td>0.3059</td><td></td><td></td><td>Float64</td></tr><tr><th>4</th><td>Column4</td><td>0.0538923</td><td>0.0058</td><td>0.04405</td><td>0.4264</td><td></td><td></td><td>Float64</td></tr><tr><th>5</th><td>Column5</td><td>0.0752024</td><td>0.0067</td><td>0.0625</td><td>0.401</td><td></td><td></td><td>Float64</td></tr><tr><th>6</th><td>Column6</td><td>0.10457</td><td>0.0102</td><td>0.09215</td><td>0.3823</td><td></td><td></td><td>Float64</td></tr><tr><th>7</th><td>Column7</td><td>0.121747</td><td>0.0033</td><td>0.10695</td><td>0.3729</td><td></td><td></td><td>Float64</td></tr><tr><th>8</th><td>Column8</td><td>0.134799</td><td>0.0055</td><td>0.1121</td><td>0.459</td><td></td><td></td><td>Float64</td></tr><tr><th>9</th><td>Column9</td><td>0.178003</td><td>0.0075</td><td>0.15225</td><td>0.6828</td><td></td><td></td><td>Float64</td></tr><tr><th>10</th><td>Column10</td><td>0.208259</td><td>0.0113</td><td>0.1824</td><td>0.7106</td><td></td><td></td><td>Float64</td></tr><tr><th>11</th><td>Column11</td><td>0.236013</td><td>0.0289</td><td>0.2248</td><td>0.7342</td><td></td><td></td><td>Float64</td></tr><tr><th>12</th><td>Column12</td><td>0.250221</td><td>0.0236</td><td>0.24905</td><td>0.706</td><td></td><td></td><td>Float64</td></tr><tr><th>13</th><td>Column13</td><td>0.273305</td><td>0.0184</td><td>0.26395</td><td>0.7131</td><td></td><td></td><td>Float64</td></tr><tr><th>14</th><td>Column14</td><td>0.296568</td><td>0.0273</td><td>0.2811</td><td>0.997</td><td></td><td></td><td>Float64</td></tr><tr><th>15</th><td>Column15</td><td>0.320201</td><td>0.0031</td><td>0.2817</td><td>1.0</td><td></td><td></td><td>Float64</td></tr><tr><th>16</th><td>Column16</td><td>0.378487</td><td>0.0162</td><td>0.3047</td><td>0.9988</td><td></td><td></td><td>Float64</td></tr><tr><th>17</th><td>Column17</td><td>0.415983</td><td>0.0349</td><td>0.3084</td><td>1.0</td><td></td><td></td><td>Float64</td></tr><tr><th>18</th><td>Column18</td><td>0.452318</td><td>0.0375</td><td>0.3683</td><td>1.0</td><td></td><td></td><td>Float64</td></tr><tr><th>19</th><td>Column19</td><td>0.504812</td><td>0.0494</td><td>0.43495</td><td>1.0</td><td></td><td></td><td>Float64</td></tr><tr><th>20</th><td>Column20</td><td>0.563047</td><td>0.0656</td><td>0.5425</td><td>1.0</td><td></td><td></td><td>Float64</td></tr><tr><th>21</th><td>Column21</td><td>0.60906</td><td>0.0512</td><td>0.6177</td><td>1.0</td><td></td><td></td><td>Float64</td></tr><tr><th>22</th><td>Column22</td><td>0.624275</td><td>0.0219</td><td>0.6649</td><td>1.0</td><td></td><td></td><td>Float64</td></tr><tr><th>23</th><td>Column23</td><td>0.646975</td><td>0.0563</td><td>0.6997</td><td>1.0</td><td></td><td></td><td>Float64</td></tr><tr><th>24</th><td>Column24</td><td>0.672654</td><td>0.0239</td><td>0.6985</td><td>1.0</td><td></td><td></td><td>Float64</td></tr><tr><th>25</th><td>Column25</td><td>0.675424</td><td>0.024</td><td>0.7211</td><td>1.0</td><td></td><td></td><td>Float64</td></tr><tr><th>26</th><td>Column26</td><td>0.699866</td><td>0.0921</td><td>0.7545</td><td>1.0</td><td></td><td></td><td>Float64</td></tr><tr><th>27</th><td>Column27</td><td>0.702155</td><td>0.0481</td><td>0.7456</td><td>1.0</td><td></td><td></td><td>Float64</td></tr><tr><th>28</th><td>Column28</td><td>0.694024</td><td>0.0284</td><td>0.7319</td><td>1.0</td><td></td><td></td><td>Float64</td></tr><tr><th>29</th><td>Column29</td><td>0.642074</td><td>0.0144</td><td>0.6808</td><td>1.0</td><td></td><td></td><td>Float64</td></tr><tr><th>30</th><td>Column30</td><td>0.580928</td><td>0.0613</td><td>0.60715</td><td>1.0</td><td></td><td></td><td>Float64</td></tr><tr><th>&vellip;</th><td>&vellip;</td><td>&vellip;</td><td>&vellip;</td><td>&vellip;</td><td>&vellip;</td><td>&vellip;</td><td>&vellip;</td><td>&vellip;</td></tr></tbody></table>"
      ],
      "text/latex": [
       "\\begin{tabular}{r|cccccccc}\n",
       "\t& variable & mean & min & median & max & nunique & nmissing & eltype\\\\\n",
       "\t\\hline\n",
       "\t& Symbol & Float64 & Real & Float64 & Real & Nothing & Nothing & DataType\\\\\n",
       "\t\\hline\n",
       "\t1 & Column1 & 0.0291639 & 0.0015 & 0.0228 & 0.1371 &  &  & Float64 \\\\\n",
       "\t2 & Column2 & 0.0384365 & 0.0006 & 0.0308 & 0.2339 &  &  & Float64 \\\\\n",
       "\t3 & Column3 & 0.0438322 & 0.0015 & 0.0343 & 0.3059 &  &  & Float64 \\\\\n",
       "\t4 & Column4 & 0.0538923 & 0.0058 & 0.04405 & 0.4264 &  &  & Float64 \\\\\n",
       "\t5 & Column5 & 0.0752024 & 0.0067 & 0.0625 & 0.401 &  &  & Float64 \\\\\n",
       "\t6 & Column6 & 0.10457 & 0.0102 & 0.09215 & 0.3823 &  &  & Float64 \\\\\n",
       "\t7 & Column7 & 0.121747 & 0.0033 & 0.10695 & 0.3729 &  &  & Float64 \\\\\n",
       "\t8 & Column8 & 0.134799 & 0.0055 & 0.1121 & 0.459 &  &  & Float64 \\\\\n",
       "\t9 & Column9 & 0.178003 & 0.0075 & 0.15225 & 0.6828 &  &  & Float64 \\\\\n",
       "\t10 & Column10 & 0.208259 & 0.0113 & 0.1824 & 0.7106 &  &  & Float64 \\\\\n",
       "\t11 & Column11 & 0.236013 & 0.0289 & 0.2248 & 0.7342 &  &  & Float64 \\\\\n",
       "\t12 & Column12 & 0.250221 & 0.0236 & 0.24905 & 0.706 &  &  & Float64 \\\\\n",
       "\t13 & Column13 & 0.273305 & 0.0184 & 0.26395 & 0.7131 &  &  & Float64 \\\\\n",
       "\t14 & Column14 & 0.296568 & 0.0273 & 0.2811 & 0.997 &  &  & Float64 \\\\\n",
       "\t15 & Column15 & 0.320201 & 0.0031 & 0.2817 & 1.0 &  &  & Float64 \\\\\n",
       "\t16 & Column16 & 0.378487 & 0.0162 & 0.3047 & 0.9988 &  &  & Float64 \\\\\n",
       "\t17 & Column17 & 0.415983 & 0.0349 & 0.3084 & 1.0 &  &  & Float64 \\\\\n",
       "\t18 & Column18 & 0.452318 & 0.0375 & 0.3683 & 1.0 &  &  & Float64 \\\\\n",
       "\t19 & Column19 & 0.504812 & 0.0494 & 0.43495 & 1.0 &  &  & Float64 \\\\\n",
       "\t20 & Column20 & 0.563047 & 0.0656 & 0.5425 & 1.0 &  &  & Float64 \\\\\n",
       "\t21 & Column21 & 0.60906 & 0.0512 & 0.6177 & 1.0 &  &  & Float64 \\\\\n",
       "\t22 & Column22 & 0.624275 & 0.0219 & 0.6649 & 1.0 &  &  & Float64 \\\\\n",
       "\t23 & Column23 & 0.646975 & 0.0563 & 0.6997 & 1.0 &  &  & Float64 \\\\\n",
       "\t24 & Column24 & 0.672654 & 0.0239 & 0.6985 & 1.0 &  &  & Float64 \\\\\n",
       "\t25 & Column25 & 0.675424 & 0.024 & 0.7211 & 1.0 &  &  & Float64 \\\\\n",
       "\t26 & Column26 & 0.699866 & 0.0921 & 0.7545 & 1.0 &  &  & Float64 \\\\\n",
       "\t27 & Column27 & 0.702155 & 0.0481 & 0.7456 & 1.0 &  &  & Float64 \\\\\n",
       "\t28 & Column28 & 0.694024 & 0.0284 & 0.7319 & 1.0 &  &  & Float64 \\\\\n",
       "\t29 & Column29 & 0.642074 & 0.0144 & 0.6808 & 1.0 &  &  & Float64 \\\\\n",
       "\t30 & Column30 & 0.580928 & 0.0613 & 0.60715 & 1.0 &  &  & Float64 \\\\\n",
       "\t$\\dots$ & $\\dots$ & $\\dots$ & $\\dots$ & $\\dots$ & $\\dots$ & $\\dots$ & $\\dots$ & $\\dots$ \\\\\n",
       "\\end{tabular}\n"
      ],
      "text/plain": [
       "61×8 typename(DataFrame). Omitted printing of 1 columns\n",
       "│ Row │ variable │ mean       │ min    │ median  │ max    │ nunique │ nmissing │\n",
       "│     │ \u001b[90mSymbol\u001b[39m   │ \u001b[90mFloat64\u001b[39m    │ \u001b[90mReal\u001b[39m   │ \u001b[90mFloat64\u001b[39m │ \u001b[90mReal\u001b[39m   │ \u001b[90mNothing\u001b[39m │ \u001b[90mNothing\u001b[39m  │\n",
       "├─────┼──────────┼────────────┼────────┼─────────┼────────┼─────────┼──────────┤\n",
       "│ 1   │ Column1  │ 0.0291639  │ 0.0015 │ 0.0228  │ 0.1371 │         │          │\n",
       "│ 2   │ Column2  │ 0.0384365  │ 0.0006 │ 0.0308  │ 0.2339 │         │          │\n",
       "│ 3   │ Column3  │ 0.0438322  │ 0.0015 │ 0.0343  │ 0.3059 │         │          │\n",
       "│ 4   │ Column4  │ 0.0538923  │ 0.0058 │ 0.04405 │ 0.4264 │         │          │\n",
       "│ 5   │ Column5  │ 0.0752024  │ 0.0067 │ 0.0625  │ 0.401  │         │          │\n",
       "│ 6   │ Column6  │ 0.10457    │ 0.0102 │ 0.09215 │ 0.3823 │         │          │\n",
       "│ 7   │ Column7  │ 0.121747   │ 0.0033 │ 0.10695 │ 0.3729 │         │          │\n",
       "│ 8   │ Column8  │ 0.134799   │ 0.0055 │ 0.1121  │ 0.459  │         │          │\n",
       "│ 9   │ Column9  │ 0.178003   │ 0.0075 │ 0.15225 │ 0.6828 │         │          │\n",
       "│ 10  │ Column10 │ 0.208259   │ 0.0113 │ 0.1824  │ 0.7106 │         │          │\n",
       "⋮\n",
       "│ 51  │ Column51 │ 0.0160687  │ 0.0    │ 0.0139  │ 0.1004 │         │          │\n",
       "│ 52  │ Column52 │ 0.0134202  │ 0.0008 │ 0.0114  │ 0.0709 │         │          │\n",
       "│ 53  │ Column53 │ 0.0107091  │ 0.0005 │ 0.00955 │ 0.039  │         │          │\n",
       "│ 54  │ Column54 │ 0.0109409  │ 0.001  │ 0.0093  │ 0.0352 │         │          │\n",
       "│ 55  │ Column55 │ 0.00929038 │ 0.0006 │ 0.0075  │ 0.0447 │         │          │\n",
       "│ 56  │ Column56 │ 0.00822163 │ 0.0004 │ 0.00685 │ 0.0394 │         │          │\n",
       "│ 57  │ Column57 │ 0.00782019 │ 0.0003 │ 0.00595 │ 0.0355 │         │          │\n",
       "│ 58  │ Column58 │ 0.00794904 │ 0.0003 │ 0.0058  │ 0.044  │         │          │\n",
       "│ 59  │ Column59 │ 0.00794135 │ 0.0001 │ 0.0064  │ 0.0364 │         │          │\n",
       "│ 60  │ Column60 │ 0.00650721 │ 0.0006 │ 0.0053  │ 0.0439 │         │          │\n",
       "│ 61  │ Column61 │ 0.533654   │ 0      │ 1.0     │ 1      │         │          │"
      ]
     },
     "execution_count": 7,
     "metadata": {},
     "output_type": "execute_result"
    }
   ],
   "source": [
    "describe(df)"
   ]
  },
  {
   "cell_type": "markdown",
   "id": "b127c3aa-bd4d-42ef-809b-5eac6e72b112",
   "metadata": {},
   "source": [
    "Let's check for class imbalance:"
   ]
  },
  {
   "cell_type": "code",
   "execution_count": 8,
   "id": "1ba47dcf-0b20-4aa2-9340-49c57f650e70",
   "metadata": {},
   "outputs": [
    {
     "data": {
      "text/plain": [
       "Dict{Int64, Int64} with 2 entries:\n",
       "  0 => 97\n",
       "  1 => 111"
      ]
     },
     "execution_count": 8,
     "metadata": {},
     "output_type": "execute_result"
    }
   ],
   "source": [
    "countmap(df.Column61)"
   ]
  },
  {
   "cell_type": "markdown",
   "id": "6fef28f6-99a2-43db-a9da-57e4e5638021",
   "metadata": {},
   "source": [
    "It is a little umbalanced, but we can work with that.Now lets look for possible correlations:"
   ]
  },
  {
   "cell_type": "code",
   "execution_count": 9,
   "id": "379ad7a7-50a5-4462-8a1b-dce7598f9d84",
   "metadata": {},
   "outputs": [
    {
     "data": {
      "text/plain": [
       "61×61 Matrix{Float64}:\n",
       " 1.0       0.735896  0.571537   …  0.357116   0.347078   0.271694\n",
       " 0.735896  1.0       0.779916      0.3522     0.358761   0.231238\n",
       " 0.571537  0.779916  1.0           0.425047   0.373948   0.192195\n",
       " 0.491438  0.606684  0.781786      0.420266   0.400626   0.250638\n",
       " 0.344797  0.419669  0.546141      0.290982   0.25371    0.222232\n",
       " 0.238921  0.332329  0.346275   …  0.220573   0.178158   0.132327\n",
       " 0.260815  0.27904   0.190434      0.183578   0.222493   0.114748\n",
       " 0.355523  0.334615  0.237884      0.1944     0.146216   0.189314\n",
       " 0.35342   0.316733  0.252691      0.0972928  0.0952431  0.321448\n",
       " 0.318276  0.270782  0.219637      0.0582733  0.0973581  0.341142\n",
       " 0.344058  0.297065  0.27461    …  0.0677261  0.0896953  0.432855\n",
       " 0.210861  0.194102  0.214807      0.0446137  0.0713637  0.392245\n",
       " 0.210722  0.249596  0.258767      0.151804   0.0614105  0.312811\n",
       " ⋮                              ⋱                        ⋮\n",
       " 0.269287  0.245868  0.0810956     0.178118   0.139944   0.180224\n",
       " 0.25445   0.320538  0.23811    …  0.317942   0.246764   0.293205\n",
       " 0.355299  0.434548  0.394076      0.298711   0.195379   0.288651\n",
       " 0.311729  0.346076  0.332914      0.346095   0.28078    0.141871\n",
       " 0.322299  0.38396   0.367186      0.447118   0.283471   0.182687\n",
       " 0.312067  0.380165  0.289731      0.453658   0.264399   0.0956385\n",
       " 0.220642  0.262263  0.287661   …  0.430804   0.349449   0.129341\n",
       " 0.313725  0.280341  0.380819      0.431295   0.287219   0.000932828\n",
       " 0.368132  0.353042  0.334108      0.550235   0.329827   0.184191\n",
       " 0.357116  0.3522    0.425047      1.0        0.642872   0.130826\n",
       " 0.347078  0.358761  0.373948      0.642872   1.0        0.0900553\n",
       " 0.271694  0.231238  0.192195   …  0.130826   0.0900553  1.0"
      ]
     },
     "execution_count": 9,
     "metadata": {},
     "output_type": "execute_result"
    }
   ],
   "source": [
    "corr = cor(Matrix(df))"
   ]
  },
  {
   "cell_type": "markdown",
   "id": "96a998b9-75e7-4fea-84eb-9773a86e4cbf",
   "metadata": {
    "tags": []
   },
   "source": [
    "Now lets look for the correlations withe the objective feature:"
   ]
  },
  {
   "cell_type": "code",
   "execution_count": 10,
   "id": "cd91034d-2436-400f-85a4-a4b5cbdd2781",
   "metadata": {},
   "outputs": [
    {
     "data": {
      "text/plain": [
       "61-element Vector{Float64}:\n",
       " 0.2716941061552168\n",
       " 0.23123798457330438\n",
       " 0.192194745755887\n",
       " 0.25063845884088126\n",
       " 0.22223183509528327\n",
       " 0.13232650383573896\n",
       " 0.11474838990488473\n",
       " 0.189314275187784\n",
       " 0.3214483861926137\n",
       " 0.3411418488122266\n",
       " 0.4328549236892342\n",
       " 0.39224547508336305\n",
       " 0.31281078441856947\n",
       " ⋮\n",
       " 0.18022415905580047\n",
       " 0.29320460713370367\n",
       " 0.2886505526223154\n",
       " 0.1418711269012208\n",
       " 0.1826874301454812\n",
       " 0.09563853711970001\n",
       " 0.129340554882823\n",
       " 0.0009328275756250693\n",
       " 0.18419099614710369\n",
       " 0.13082593671114393\n",
       " 0.09005534016567657\n",
       " 1.0"
      ]
     },
     "execution_count": 10,
     "metadata": {},
     "output_type": "execute_result"
    }
   ],
   "source": [
    "corr[:,61]"
   ]
  },
  {
   "cell_type": "markdown",
   "id": "bd99931b-e4ab-4d1e-8c0a-a18407c382b4",
   "metadata": {},
   "source": [
    "As we can see there is no strong linear relation with any of the other variables."
   ]
  },
  {
   "cell_type": "markdown",
   "id": "66159bd7-bf56-4518-8896-e6552719da5a",
   "metadata": {},
   "source": [
    "Lets scale the data to the range between 0 and 1"
   ]
  },
  {
   "cell_type": "code",
   "execution_count": 21,
   "id": "2adc77f8-c7c8-45a8-82c7-f8159bdc4186",
   "metadata": {},
   "outputs": [],
   "source": [
    "scaler = MinMaxScaler(); \n",
    "X = Matrix(df[:,1:60])        \n",
    "scaler.fit(X)\n",
    "X = scaler.transform(X)\n",
    "y = df.Column61;"
   ]
  },
  {
   "cell_type": "markdown",
   "id": "ce7b370e-8c27-4175-90cb-44dce38b8a1c",
   "metadata": {},
   "source": [
    "This is how the data was transformed:"
   ]
  },
  {
   "cell_type": "code",
   "execution_count": 24,
   "id": "44a02c12-6e1f-4789-a9de-a7a3984f6ef0",
   "metadata": {},
   "outputs": [
    {
     "data": {
      "text/plain": [
       "5×60 Matrix{Float64}:\n",
       " 0.136431   0.156451   0.135677  0.0354256  …  0.185355   0.245179  0.0600462\n",
       " 0.323009   0.221603   0.272011  0.150024      0.105263   0.140496  0.0877598\n",
       " 0.182153   0.246892   0.35611   0.243699      0.368421   0.258953  0.166282\n",
       " 0.0626844  0.0707244  0.199737  0.0349501     0.0938215  0.107438  0.256351\n",
       " 0.550885   0.282898   0.153088  0.0798859     0.102975   0.292011  0.203233"
      ]
     },
     "execution_count": 24,
     "metadata": {},
     "output_type": "execute_result"
    }
   ],
   "source": [
    "X[1:5,:]"
   ]
  },
  {
   "cell_type": "markdown",
   "id": "0b5638b4-f6b5-4998-b1a1-671088ef3998",
   "metadata": {
    "tags": []
   },
   "source": [
    "# Feature Engineering"
   ]
  },
  {
   "cell_type": "markdown",
   "id": "dac8d11f-97ca-4662-98ba-a885026527bf",
   "metadata": {},
   "source": [
    "Now lets try a PCA as the dimension of the input features is high, as we have a lot of features, we want the explained variance to be 95-99%:"
   ]
  },
  {
   "cell_type": "code",
   "execution_count": 27,
   "id": "05277411-2fac-4687-a71c-d3f54af230be",
   "metadata": {},
   "outputs": [],
   "source": [
    "pca = PCA(0.95)\n",
    "pca.fit(X)\n",
    "X = pca.transform(X); "
   ]
  },
  {
   "cell_type": "code",
   "execution_count": 30,
   "id": "c0ffad6f-fc1b-4891-afeb-0ef8311ccde0",
   "metadata": {},
   "outputs": [
    {
     "data": {
      "text/plain": [
       "(208, 21)"
      ]
     },
     "execution_count": 30,
     "metadata": {},
     "output_type": "execute_result"
    }
   ],
   "source": [
    "size(X)"
   ]
  },
  {
   "cell_type": "markdown",
   "id": "fd07d7c2-18f0-4547-9f76-53b8fcb10dc9",
   "metadata": {},
   "source": [
    "After PCA we went from 60 features to 21."
   ]
  },
  {
   "cell_type": "markdown",
   "id": "fd665367-7879-4f01-84c9-cf732e53b827",
   "metadata": {},
   "source": [
    "Splitting into train,test and validation sets:"
   ]
  },
  {
   "cell_type": "code",
   "execution_count": 31,
   "id": "a41e9987-0a98-42ba-bd39-9dff1bf61204",
   "metadata": {},
   "outputs": [],
   "source": [
    "X_train, X_test, y_train, y_test = train_test_split(X, y, train_size=0.8,random_state=66)\n",
    "X_train, X_valid, y_train, y_valid = train_test_split(X_train, y_train, train_size=0.9,random_state=66);"
   ]
  },
  {
   "cell_type": "code",
   "execution_count": 32,
   "id": "041690be-424b-466d-93fb-d1fc6245f8c3",
   "metadata": {},
   "outputs": [
    {
     "name": "stdout",
     "output_type": "stream",
     "text": [
      "Train -> (149, 21)\n",
      "Test -> (42, 21)\n",
      "Validation -> (17, 21)\n"
     ]
    }
   ],
   "source": [
    "print(\"Train -> \",size(X_train),\"\\n\")\n",
    "print(\"Test -> \",size(X_test),\"\\n\")\n",
    "print(\"Validation -> \",size(X_valid),\"\\n\")"
   ]
  },
  {
   "cell_type": "code",
   "execution_count": 58,
   "id": "3317768c-ae63-4aff-adc9-c249a9f7fb83",
   "metadata": {},
   "outputs": [
    {
     "data": {
      "text/plain": [
       "interpret_cm (generic function with 1 method)"
      ]
     },
     "execution_count": 58,
     "metadata": {},
     "output_type": "execute_result"
    }
   ],
   "source": [
    "function interpret_cm(m)\n",
    "    print(\"Rocks labeled as rocks: \",m[1,1])\n",
    "    print(\"\\nRocks labeled as mines: \",m[1,2])\n",
    "    print(\"\\nMines labeled as rocks: \",m[2,1])\n",
    "    print(\"\\nMines labeled as mines: \",m[2,2])\n",
    "end\n",
    "    "
   ]
  },
  {
   "cell_type": "markdown",
   "id": "c37b8123-53af-4b27-8370-d795da50e146",
   "metadata": {},
   "source": [
    "# Logistic Regression"
   ]
  },
  {
   "cell_type": "code",
   "execution_count": 59,
   "id": "518c6eab-9935-4386-a42a-b26a4b7bc045",
   "metadata": {},
   "outputs": [],
   "source": [
    "model_log = LogisticRegression();\n",
    "model_log.fit(X_train,y_train);\n",
    "predicted_log = model_log.predict(X_valid);"
   ]
  },
  {
   "cell_type": "code",
   "execution_count": 60,
   "id": "d8761f48-91cf-4e5b-bb3d-f4b316019df0",
   "metadata": {},
   "outputs": [
    {
     "name": "stdout",
     "output_type": "stream",
     "text": [
      "Rocks labeled as rocks: 6\n",
      "Rocks labeled as mines: 1\n",
      "Mines labeled as rocks: 1\n",
      "Mines labeled as mines: 9"
     ]
    }
   ],
   "source": [
    "interpret_cm(confusion_matrix(y_valid,predicted_log))"
   ]
  },
  {
   "cell_type": "code",
   "execution_count": 47,
   "id": "a326ac2d-5620-4ca8-bb85-2584fc5d16f6",
   "metadata": {},
   "outputs": [
    {
     "data": {
      "text/plain": [
       "0.9"
      ]
     },
     "execution_count": 47,
     "metadata": {},
     "output_type": "execute_result"
    }
   ],
   "source": [
    "f1 = f1_score(y_valid,predicted_log)"
   ]
  },
  {
   "cell_type": "markdown",
   "id": "a98a0856-5f89-4152-9f23-595023cf4698",
   "metadata": {},
   "source": [
    "# KNN"
   ]
  },
  {
   "cell_type": "code",
   "execution_count": 61,
   "id": "47ef185a-13de-4b4b-9509-4b11e5e9c00a",
   "metadata": {},
   "outputs": [],
   "source": [
    "model_knn = KNeighborsClassifier();\n",
    "model_knn.fit(X_train,y_train);\n",
    "predicted_knn = model_knn.predict(X_valid);"
   ]
  },
  {
   "cell_type": "code",
   "execution_count": 62,
   "id": "8bafc29c-2758-46fd-a8b8-3423f4ac6ec3",
   "metadata": {},
   "outputs": [
    {
     "name": "stdout",
     "output_type": "stream",
     "text": [
      "Rocks labeled as rocks: 4\n",
      "Rocks labeled as mines: 3\n",
      "Mines labeled as rocks: 3\n",
      "Mines labeled as mines: 7"
     ]
    }
   ],
   "source": [
    "interpret_cm(confusion_matrix(y_valid,predicted_knn))"
   ]
  },
  {
   "cell_type": "code",
   "execution_count": 63,
   "id": "8ae0145c-9121-4578-9203-15a681aadd7a",
   "metadata": {},
   "outputs": [
    {
     "data": {
      "text/plain": [
       "0.7"
      ]
     },
     "execution_count": 63,
     "metadata": {},
     "output_type": "execute_result"
    }
   ],
   "source": [
    "f1 = f1_score(y_valid,predicted_knn)"
   ]
  },
  {
   "cell_type": "markdown",
   "id": "8c9a8f73-30bb-437d-8f52-48895a30134b",
   "metadata": {},
   "source": [
    "# Decision Tree Classifier"
   ]
  },
  {
   "cell_type": "code",
   "execution_count": 64,
   "id": "5d03174d-d426-4f6f-bbc9-d141e55bc1a2",
   "metadata": {},
   "outputs": [],
   "source": [
    "model_dtc = DecisionTreeClassifier()\n",
    "model_dtc.fit(X_train,y_train);\n",
    "predicted_dtc = model_dtc.predict(X_valid);"
   ]
  },
  {
   "cell_type": "code",
   "execution_count": 65,
   "id": "9ee2fece-11ae-4b20-aaf0-3fbcbd2687fe",
   "metadata": {},
   "outputs": [
    {
     "name": "stdout",
     "output_type": "stream",
     "text": [
      "Rocks labeled as rocks: 4\n",
      "Rocks labeled as mines: 3\n",
      "Mines labeled as rocks: 1\n",
      "Mines labeled as mines: 9"
     ]
    }
   ],
   "source": [
    "interpret_cm(confusion_matrix(y_valid,predicted_dtc))"
   ]
  },
  {
   "cell_type": "code",
   "execution_count": 66,
   "id": "f061c58f-a89b-4509-9dc1-c75b729ab952",
   "metadata": {},
   "outputs": [
    {
     "data": {
      "text/plain": [
       "0.8181818181818182"
      ]
     },
     "execution_count": 66,
     "metadata": {},
     "output_type": "execute_result"
    }
   ],
   "source": [
    "f1 = f1_score(y_valid,predicted_dtc)"
   ]
  },
  {
   "cell_type": "markdown",
   "id": "328ce936-7909-4751-9fe6-2dedda95ab28",
   "metadata": {},
   "source": [
    "# SVM"
   ]
  },
  {
   "cell_type": "code",
   "execution_count": 68,
   "id": "c732dd67-6d64-4036-8fab-3725228b22cd",
   "metadata": {},
   "outputs": [],
   "source": [
    "model_svc = SVC(gamma=\"auto\");\n",
    "model_svc.fit(X_train,y_train);\n",
    "predicted_svc = model_svc.predict(X_valid);"
   ]
  },
  {
   "cell_type": "code",
   "execution_count": 69,
   "id": "80473bb3-7605-412b-b3a0-87d701a649c7",
   "metadata": {},
   "outputs": [
    {
     "name": "stdout",
     "output_type": "stream",
     "text": [
      "Rocks labeled as rocks: 6\n",
      "Rocks labeled as mines: 1\n",
      "Mines labeled as rocks: 1\n",
      "Mines labeled as mines: 9"
     ]
    }
   ],
   "source": [
    "interpret_cm(confusion_matrix(y_valid,predicted_svc))"
   ]
  },
  {
   "cell_type": "code",
   "execution_count": 70,
   "id": "9bd602d1-50fc-47ee-946e-a2e1aac9a421",
   "metadata": {},
   "outputs": [
    {
     "data": {
      "text/plain": [
       "0.9"
      ]
     },
     "execution_count": 70,
     "metadata": {},
     "output_type": "execute_result"
    }
   ],
   "source": [
    "f1 = f1_score(y_valid,predicted_svc)"
   ]
  },
  {
   "cell_type": "code",
   "execution_count": null,
   "id": "2daa7404-f258-4944-b61d-bcede34d0fc3",
   "metadata": {},
   "outputs": [],
   "source": []
  }
 ],
 "metadata": {
  "kernelspec": {
   "display_name": "Julia 1.7.2",
   "language": "julia",
   "name": "julia-1.7"
  },
  "language_info": {
   "file_extension": ".jl",
   "mimetype": "application/julia",
   "name": "julia",
   "version": "1.7.2"
  }
 },
 "nbformat": 4,
 "nbformat_minor": 5
}
