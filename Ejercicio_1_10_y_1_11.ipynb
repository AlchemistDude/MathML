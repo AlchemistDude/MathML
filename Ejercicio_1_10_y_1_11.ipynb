{
  "nbformat": 4,
  "nbformat_minor": 0,
  "metadata": {
    "colab": {
      "name": "Ejercicio 1.10  y 1.11",
      "provenance": [],
      "collapsed_sections": []
    },
    "kernelspec": {
      "name": "python3",
      "display_name": "Python 3"
    },
    "language_info": {
      "name": "python"
    }
  },
  "cells": [
    {
      "cell_type": "code",
      "execution_count": 35,
      "metadata": {
        "id": "XfHRiYndA-ev"
      },
      "outputs": [],
      "source": [
        "import numpy as np\n",
        "import matplotlib.pyplot as plt"
      ]
    },
    {
      "cell_type": "code",
      "source": [
        "def tirar_monedas(n):\n",
        "  #cara: 1, sello: 0\n",
        "  resultados = np.zeros(n) \n",
        "  probs = np.random.uniform(size=n)\n",
        "  resultados[probs > 0.5] = 1 # si la probabilidad es mayor a 0.5 salió cara\n",
        "  return resultados"
      ],
      "metadata": {
        "id": "X-q56AOBBCwJ"
      },
      "execution_count": 14,
      "outputs": []
    },
    {
      "cell_type": "code",
      "source": [
        "def simulacion(n, m,punto_b=False):\n",
        "  #n -> numero de monedas\n",
        "  #m -> numero de veces que se tira cada moneda\n",
        "  #v1 -> Fraccion de caras de la primera moneda tirada.\n",
        "  #vrand -> Fraccion de caras de una moneda escogida al azar.\n",
        "  #vmin -> Fraccion de caras de la moneda con menor frecuencia de caras.\n",
        "    \n",
        "    v1 = []\n",
        "    vrand = []\n",
        "    vmin = []\n",
        "    \n",
        "    crand = np.random.choice(n) # Escoge la moneda al azar de las n que se van a tirar para vrand\n",
        "    caras = np.zeros(n) #suma de caras por cada moneda\n",
        "    \n",
        "    for tirada in range(m):\n",
        "      # tira las n monedas m veces\n",
        "        caras = caras + tirar_monedas(n)\n",
        "    \n",
        "    frecuenciaCaras = caras/m\n",
        "    \n",
        "    v1 = frecuenciaCaras[0]\n",
        "    vrand = frecuenciaCaras[crand]\n",
        "    cmin = np.argmin(caras)\n",
        "    vmin = frecuenciaCaras[cmin]\n",
        "    \n",
        "    if not punto_b:\n",
        "      print(f'Primera moneda: {v1}')\n",
        "      print(f'Moneda al azar: {vrand} ')\n",
        "      print(f'Moneda con menos caras: {vmin}')\n",
        "    return v1,vrand,vmin"
      ],
      "metadata": {
        "id": "uiDxmsDxBeMR"
      },
      "execution_count": 42,
      "outputs": []
    },
    {
      "cell_type": "markdown",
      "source": [
        "\n",
        "Punto (a) \\\\\n",
        "\n",
        " Al ser monedas justas tenemos que $\\mu = 0.5$, pues estamos utilizando una distribución uniforme.\n",
        "\n"
      ],
      "metadata": {
        "id": "mG_oJzySGNIy"
      }
    },
    {
      "cell_type": "code",
      "source": [
        "n = 1000\n",
        "m = 10\n",
        "simulacion(n, m)"
      ],
      "metadata": {
        "colab": {
          "base_uri": "https://localhost:8080/",
          "height": 0
        },
        "id": "UvOR9RygEhjZ",
        "outputId": "1f6fe1c1-7f18-4630-e1a4-cf48eac9d01f"
      },
      "execution_count": 34,
      "outputs": [
        {
          "output_type": "stream",
          "name": "stdout",
          "text": [
            "Primera moneda: 0.3\n",
            "Moneda al azar: 0.6 \n",
            "Moneda con menos caras: 0.0\n"
          ]
        },
        {
          "output_type": "execute_result",
          "data": {
            "text/plain": [
              "(0.3, 0.6, 0.0)"
            ]
          },
          "metadata": {},
          "execution_count": 34
        }
      ]
    },
    {
      "cell_type": "code",
      "source": [
        "# Punto b\n",
        "n = 1000\n",
        "m = 10\n",
        "ejecuciones = 1000000\n",
        "v1s, vrands, vmins = [],[],[] # arreglos para guardar las frecuencias de caras de las monedas c1,rand y cmin\n",
        "for run in range(ejecuciones):\n",
        "    v1,vrand,vmin = simulacion(n, m,punto_b=True)\n",
        "    v1s.append(v1)\n",
        "    vrands.append(vrand)\n",
        "    vmins.append(vmin)\n",
        "\n",
        "fig, axs = plt.subplots(3,1,sharey=True, tight_layout=True)\n",
        "n_bins = 10\n",
        "axs[0].hist(v1s,bins=n_bins)\n",
        "axs[1].hist(vrands,bins=n_bins)\n",
        "axs[2].hist(vmins,bins=n_bins)\n",
        "\n",
        "axs[0].set_title('Primera moneda')\n",
        "axs[1].set_title('Moneda al azar')\n",
        "axs[2].set_title('Moneda con menor frecuencia en caras')\n",
        "plt.show()"
      ],
      "metadata": {
        "colab": {
          "base_uri": "https://localhost:8080/",
          "height": 297
        },
        "id": "rOktHwtqGljR",
        "outputId": "98cafe32-a809-40ca-d924-77374a385289"
      },
      "execution_count": 46,
      "outputs": [
        {
          "output_type": "display_data",
          "data": {
            "text/plain": [
              "<Figure size 432x288 with 3 Axes>"
            ],
            "image/png": "[encoded data removed]"
          },
          "metadata": {
            "needs_background": "light"
          }
        }
      ]
    },
    {
      "cell_type": "markdown",
      "source": [
        "Punto d \\\\\n",
        "Aunque no pude realizar el punto c según la teoría vista en clase la moneda con la menor frecuencia no debería cumplir la cota de Hoeffding pues esta se escogió después de realizar el experimento y no antes como las otras dos monedas, y como ya sabemos esto viola la condición para la desigualdad de  Hoeffding que dice que la hipotesis se debe haber fijado antes de que se extraigan las muestras.\n",
        "\n",
        "Punto e \\\\\n",
        "Al escoger la moneda con menor frecuencia de caras es como de nuestro espacio de 1000 hipotesis o de nuestra bolsa con 1000 hipotesis tomar una hipotesis o bin (moneda con menor frecuencia de caras), estamos tomando el bin después del muestreo de los datos (error), las otras dos monedas si se tomaron antes del muestreo.\n",
        "\n",
        "\n",
        "\n",
        "---\n",
        "\n",
        "Ejercicio 1.11\n",
        "\n",
        "Tenemos $f: X \\to Y$ donde $X=\\mathbb{R}$ y $Y=\\{-1,1\\}$, para aprender $f$ tenemos el siguiente espacio de hpotesis $H= \\{h_{1},h_{2}\\}$ donde $h_{1}$ es la función constante $+1$ y $h_{2}$ la función constante $-1$.\n",
        "\n",
        "Punto a \\\\\n",
        "\n",
        "No hay garantía que $S$ pueda producir una mejor hipotesis que tenga mejor desempeño fuera de $D$, supongamos que $f$ tiene 100 $+1$ en $D$ pero tiene $-1$ en el resto de puntos en $X$, es decir, por fuera de $D$, aqui vemos que $S$ escogerá una mala hipotesis pues nunca le dará a ningún punto, sin enmbargo el algoritmo $C$ tiene mas chances pues tiene un chance del 50% de ajustar los datos, en resumen, en este caso es mejor $C$ que $S$ por fuera de $D$.\n",
        "\n",
        "Punto b \\\\\n",
        "En el punto a hay un caso donde el algortimo $C$ escoge una mejor hipotesis que el algoritmo $S$.\n",
        "\n",
        "Punto c \\\\\n",
        "Con $p=0.9$ esta vez el algoritmo $C$ escogerá siempre una peor hipotesis que el algoritmo $S$, ya que si cada punto en $D$ es +1 según la definición de $S$ este escogerá la hipotesis $h_{1}$ y el algoritmo $C$ escogerá la hipotesis $h_{2}$, afuera de $D$, es decir, en $X-D$ la hipotesis $h_{1}$ tiene un chance del 0.9 de dar con $f$, mientras que $h_{2}$ sólo un 0.1.\n",
        "\n",
        "Punto d \\\\\n",
        "Se necesita que $C$ siempre escoja a $h_{2}$, esto se lograría según lo visto si $p < 0.5$, de esta manera $h_{2}$ se parecerá mucho más a $f$ que la hipotesis $h_{1}$.\n",
        "\n",
        "\n",
        "\n",
        "\n",
        "\n",
        "\n",
        "\n"
      ],
      "metadata": {
        "id": "ijtHDuUTTQzZ"
      }
    },
    {
      "cell_type": "code",
      "source": [
        ""
      ],
      "metadata": {
        "id": "Ty35lzyThQ9Y"
      },
      "execution_count": null,
      "outputs": []
    },
    {
      "cell_type": "code",
      "source": [
        ""
      ],
      "metadata": {
        "id": "fG2Oy20eHqcs"
      },
      "execution_count": null,
      "outputs": []
    }
  ]
}